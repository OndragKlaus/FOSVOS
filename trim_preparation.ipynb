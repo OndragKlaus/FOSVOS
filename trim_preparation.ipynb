{
 "cells": [
  {
   "cell_type": "code",
   "execution_count": null,
   "metadata": {},
   "outputs": [],
   "source": [
    "import numpy as np\n",
    "from scipy.linalg import circulant, toeplitz"
   ]
  },
  {
   "cell_type": "code",
   "execution_count": null,
   "metadata": {},
   "outputs": [],
   "source": [
    "x = (np.arange(4) * 2 + 1).reshape((2, 2))\n",
    "# x = np.asarray([[0, 1, 0, 0, 2],\n",
    "#                 [1, 2, 2, 0, 0],\n",
    "#                 [0, 0, 2, 1, 1],\n",
    "#                 [1, 2, 0, 0, 1],\n",
    "#                 [0, 0, 0, 1, 1]])\n",
    "x"
   ]
  },
  {
   "cell_type": "code",
   "execution_count": null,
   "metadata": {},
   "outputs": [],
   "source": [
    "w = (np.arange(4) + 10).reshape((2, 2))\n",
    "# w = np.asarray([[-1, 1, 0],\n",
    "#                 [0, 1, 0],\n",
    "#                 [-1, 1, -1]])\n",
    "w"
   ]
  },
  {
   "cell_type": "code",
   "execution_count": null,
   "metadata": {},
   "outputs": [],
   "source": []
  },
  {
   "cell_type": "code",
   "execution_count": null,
   "metadata": {},
   "outputs": [],
   "source": [
    "x = np.pad(x, 1, 'constant')\n",
    "n_rows_in_x, n_columns_in_x = x.shape\n",
    "x = x.reshape((-1))\n",
    "n_elements_in_x = len(x)\n",
    "n_rows_in_w, n_columns_in_w = w.shape"
   ]
  },
  {
   "cell_type": "code",
   "execution_count": null,
   "metadata": {},
   "outputs": [],
   "source": [
    "f = np.zeros((n_rows_in_x, n_columns_in_x))\n",
    "f[:n_rows_in_w, :n_columns_in_w] = w\n",
    "f = f.reshape(-1)\n",
    "f"
   ]
  },
  {
   "cell_type": "code",
   "execution_count": null,
   "metadata": {},
   "outputs": [],
   "source": [
    "w_ = circulant(f).T\n",
    "w_"
   ]
  },
  {
   "cell_type": "code",
   "execution_count": null,
   "metadata": {
    "scrolled": false
   },
   "outputs": [],
   "source": [
    "print(w_)"
   ]
  },
  {
   "cell_type": "code",
   "execution_count": null,
   "metadata": {},
   "outputs": [],
   "source": [
    "w_.shape"
   ]
  },
  {
   "cell_type": "code",
   "execution_count": null,
   "metadata": {},
   "outputs": [],
   "source": [
    "stride = 1\n",
    "n_rows_in_output = int(np.floor((n_rows_in_x - n_rows_in_w) / stride + 1))\n",
    "n_columns_in_output = int(np.floor((n_columns_in_x - n_columns_in_w) / stride + 1))\n",
    "\n",
    "indices = np.zeros(w_.shape[0], dtype=bool)\n",
    "for index_row, index_start in enumerate(range(0, indices.shape[0], n_columns_in_x)):\n",
    "    if index_row >= n_rows_in_output:\n",
    "        break\n",
    "    index_end = index_start + n_columns_in_output\n",
    "    indices[index_start:index_end] = [True] * n_columns_in_output\n",
    "\n",
    "if n_rows_in_output * n_columns_in_output != np.sum(indices):\n",
    "    raise Exception('Sum of indices should match the values in output')\n",
    "indices"
   ]
  },
  {
   "cell_type": "code",
   "execution_count": null,
   "metadata": {},
   "outputs": [],
   "source": [
    "w_result = w_[indices, :]\n",
    "w_result"
   ]
  },
  {
   "cell_type": "code",
   "execution_count": null,
   "metadata": {},
   "outputs": [],
   "source": [
    "goal = [[10, 11, 0, 0, 12, 13, 0, 0, 0, 0, 0, 0, 0, 0, 0, 0],\n",
    "        [0, 10, 11, 0, 0, 12, 13, 0, 0, 0, 0, 0, 0, 0, 0, 0],\n",
    "        [0, 0, 10, 11, 0, 0, 12, 13, 0, 0, 0, 0, 0, 0, 0, 0],\n",
    "        [0, 0, 0, 0, 10, 11, 0, 0, 12, 13, 0, 0, 0, 0, 0, 0],\n",
    "        [0, 0, 0, 0, 0, 10, 11, 0, 0, 12, 13, 0, 0, 0, 0, 0],\n",
    "        [0, 0, 0, 0, 0, 0, 10, 11, 0, 0, 12, 13, 0, 0, 0, 0],\n",
    "        [0, 0, 0, 0, 0, 0, 0, 0, 10, 11, 0, 0, 12, 13, 0, 0],\n",
    "        [0, 0, 0, 0, 0, 0, 0, 0, 0, 10, 11, 0, 0, 12, 13, 0],\n",
    "        [0, 0, 0, 0, 0, 0, 0, 0, 0, 0, 10, 11, 0, 0, 12, 13]]\n",
    "goal"
   ]
  },
  {
   "cell_type": "code",
   "execution_count": null,
   "metadata": {},
   "outputs": [],
   "source": [
    "np.sum(w_result - goal != 0)"
   ]
  },
  {
   "cell_type": "code",
   "execution_count": null,
   "metadata": {},
   "outputs": [],
   "source": [
    "result_mine = (w_result @ x).reshape((3, 3))\n",
    "# result_mine = (w_result @ x).reshape((5, 5))\n",
    "result_mine"
   ]
  },
  {
   "cell_type": "code",
   "execution_count": null,
   "metadata": {},
   "outputs": [],
   "source": []
  },
  {
   "cell_type": "code",
   "execution_count": null,
   "metadata": {},
   "outputs": [],
   "source": [
    "import numpy as np\n",
    "import torch.nn as nn\n",
    "\n",
    "c = nn.Conv2d(1, 1, kernel_size=2, padding=1, stride=1, bias=False)\n",
    "c.weight.data[0, 0, 0, 0] = 10\n",
    "c.weight.data[0, 0, 0, 1] = 11\n",
    "c.weight.data[0, 0, 1, 0] = 12\n",
    "c.weight.data[0, 0, 1, 1] = 13\n",
    "\n",
    "# c = nn.Conv2d(1, 1, kernel_size=3, padding=1, stride=1, bias=False)\n",
    "# c.weight.data[0, 0, 0, 0] = -1\n",
    "# c.weight.data[0, 0, 0, 1] = 1\n",
    "# c.weight.data[0, 0, 0, 2] = 0\n",
    "# c.weight.data[0, 0, 1, 0] = 0\n",
    "# c.weight.data[0, 0, 1, 1] = 1\n",
    "# c.weight.data[0, 0, 1, 2] = 0\n",
    "# c.weight.data[0, 0, 2, 0] = -1\n",
    "# c.weight.data[0, 0, 2, 1] = 1\n",
    "# c.weight.data[0, 0, 2, 2] = -1\n",
    "c.weight.data"
   ]
  },
  {
   "cell_type": "code",
   "execution_count": null,
   "metadata": {},
   "outputs": [],
   "source": [
    "import torch\n",
    "from torch.autograd import Variable\n",
    "\n",
    "x_2 = (np.arange(4) * 2 + 1).reshape((2, 2)) \n",
    "\n",
    "# x_2 = np.asarray([[0, 1, 0, 0, 2],\n",
    "#                   [1, 2, 2, 0, 0],\n",
    "#                   [0, 0, 2, 1, 1],\n",
    "#                   [1, 2, 0, 0, 1],\n",
    "#                   [0, 0, 0, 1, 1]])\n",
    "x_2 = Variable(torch.from_numpy(x_2[None, None, ...]))\n",
    "x_2 = x_2.float()\n",
    "x_2"
   ]
  },
  {
   "cell_type": "code",
   "execution_count": null,
   "metadata": {},
   "outputs": [],
   "source": [
    "result_pytorch = c(x_2)\n",
    "result_pytorch = result_pytorch.cpu().data.numpy()\n",
    "result_pytorch = np.squeeze(result_pytorch)\n",
    "result_pytorch"
   ]
  },
  {
   "cell_type": "code",
   "execution_count": null,
   "metadata": {},
   "outputs": [],
   "source": [
    "np.sum(result_pytorch - result_mine != 0)"
   ]
  },
  {
   "cell_type": "code",
   "execution_count": null,
   "metadata": {},
   "outputs": [],
   "source": []
  },
  {
   "cell_type": "code",
   "execution_count": null,
   "metadata": {},
   "outputs": [],
   "source": []
  },
  {
   "cell_type": "code",
   "execution_count": null,
   "metadata": {},
   "outputs": [],
   "source": []
  },
  {
   "cell_type": "code",
   "execution_count": null,
   "metadata": {},
   "outputs": [],
   "source": []
  },
  {
   "cell_type": "code",
   "execution_count": null,
   "metadata": {},
   "outputs": [],
   "source": []
  },
  {
   "cell_type": "code",
   "execution_count": null,
   "metadata": {},
   "outputs": [],
   "source": []
  },
  {
   "cell_type": "code",
   "execution_count": null,
   "metadata": {},
   "outputs": [],
   "source": []
  },
  {
   "cell_type": "code",
   "execution_count": null,
   "metadata": {},
   "outputs": [],
   "source": []
  },
  {
   "cell_type": "code",
   "execution_count": null,
   "metadata": {},
   "outputs": [],
   "source": []
  },
  {
   "cell_type": "code",
   "execution_count": null,
   "metadata": {},
   "outputs": [],
   "source": []
  },
  {
   "cell_type": "code",
   "execution_count": null,
   "metadata": {},
   "outputs": [],
   "source": []
  },
  {
   "cell_type": "code",
   "execution_count": null,
   "metadata": {},
   "outputs": [],
   "source": []
  },
  {
   "cell_type": "code",
   "execution_count": null,
   "metadata": {},
   "outputs": [],
   "source": []
  },
  {
   "cell_type": "code",
   "execution_count": null,
   "metadata": {},
   "outputs": [],
   "source": []
  },
  {
   "cell_type": "code",
   "execution_count": null,
   "metadata": {},
   "outputs": [],
   "source": []
  },
  {
   "cell_type": "code",
   "execution_count": null,
   "metadata": {},
   "outputs": [],
   "source": []
  },
  {
   "cell_type": "code",
   "execution_count": null,
   "metadata": {},
   "outputs": [],
   "source": []
  },
  {
   "cell_type": "code",
   "execution_count": null,
   "metadata": {},
   "outputs": [],
   "source": []
  },
  {
   "cell_type": "code",
   "execution_count": null,
   "metadata": {},
   "outputs": [],
   "source": []
  },
  {
   "cell_type": "code",
   "execution_count": null,
   "metadata": {},
   "outputs": [],
   "source": []
  },
  {
   "cell_type": "code",
   "execution_count": null,
   "metadata": {},
   "outputs": [],
   "source": []
  },
  {
   "cell_type": "code",
   "execution_count": null,
   "metadata": {},
   "outputs": [],
   "source": []
  },
  {
   "cell_type": "code",
   "execution_count": null,
   "metadata": {},
   "outputs": [],
   "source": []
  },
  {
   "cell_type": "code",
   "execution_count": null,
   "metadata": {},
   "outputs": [],
   "source": []
  },
  {
   "cell_type": "code",
   "execution_count": null,
   "metadata": {},
   "outputs": [],
   "source": []
  }
 ],
 "metadata": {
  "kernelspec": {
   "display_name": "Python 3",
   "language": "python",
   "name": "python3"
  },
  "language_info": {
   "codemirror_mode": {
    "name": "ipython",
    "version": 3
   },
   "file_extension": ".py",
   "mimetype": "text/x-python",
   "name": "python",
   "nbconvert_exporter": "python",
   "pygments_lexer": "ipython3",
   "version": "3.5.2"
  }
 },
 "nbformat": 4,
 "nbformat_minor": 2
}

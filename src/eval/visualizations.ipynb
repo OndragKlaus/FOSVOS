{
 "cells": [
  {
   "cell_type": "code",
   "execution_count": null,
   "metadata": {},
   "outputs": [],
   "source": [
    "import yaml\n",
    "import numpy as np\n",
    "import plotly.offline as py\n",
    "import plotly.graph_objs as go\n",
    "py.init_notebook_mode(connected=True)"
   ]
  },
  {
   "cell_type": "code",
   "execution_count": null,
   "metadata": {},
   "outputs": [],
   "source": [
    "data = [('vgg16', 0.08083438105769455, 'rgba(31, 119, 180, 1)'), \n",
    "        ('resnet18', 0.010670146435228262, 'rgba(255, 127, 14, 1)'),\n",
    "        ('resnet34', 0.013862044609998438, 'rgba(44, 160, 44, 1)')]\n",
    "names, speeds, colors = zip(*data)\n",
    "data = [go.Bar(y=[speed], x=[name], name=name) for name, speed, color in data]\n",
    "\n",
    "layout = go.Layout(title=('Average forward speed for each model (lower is better)'),\n",
    "                   font=dict(family='Roboto'),\n",
    "                   xaxis=dict(title='model', ticks='outside'),\n",
    "                   yaxis=dict(title='Forward speed per image in seconds'),\n",
    "                   showlegend=True\n",
    "                  )\n",
    "fig = go.Figure(data=data, layout=layout)\n",
    "py.iplot(fig)\n",
    "    "
   ]
  },
  {
   "cell_type": "code",
   "execution_count": null,
   "metadata": {},
   "outputs": [],
   "source": [
    "def get_metric(file_path, metric, parts):\n",
    "    with open(file_path, 'r') as stream:\n",
    "        model_eval = yaml.load(stream)\n",
    "    keys = sorted(model_eval['sequence'].keys(), reverse=True)\n",
    "    stats = [[model_eval['sequence'][k][metric][p][0] for p in parts]\n",
    "             for k in keys]\n",
    "    part_0, part_1 = list(zip(*stats))\n",
    "    return part_0, part_1, keys\n",
    "\n",
    "vgg16_J_mean_online, vgg16_J_decay_online, keys = get_metric('/home/klaus/dev/davis-2017/python/tools/metrics_mine_vgg16_online.yml',\n",
    "                                         'J', ['mean', 'decay'])\n",
    "                                         \n",
    "resnet18_J_mean_online, resnet18_J_decay_online, _ = get_metric('/home/klaus/dev/davis-2017/python/tools/metrics_mine_resnet18_0_1.yml',\n",
    "                                               'J', ['mean', 'decay'])\n",
    "\n",
    "file_path_resnet34 = '/home/klaus/dev/davis-2017/python/tools/metrics_mine_resnet34_0_1.yml'\n",
    "resnet34_J_mean_online, resnet34_J_decay_online, _ = get_metric(file_path_resnet34, 'J', ['mean', 'decay'])\n",
    "\n",
    "\n",
    "vgg16_J_mean_offline, vgg16_J_decay_offline, _ = get_metric('/home/klaus/dev/davis-2017/python/tools/metrics_mine_vgg16_offline.yml',\n",
    "                                         'J', ['mean', 'decay'])\n",
    "                                         \n",
    "resnet18_J_mean_offline, resnet18_J_decay_offline, _ = get_metric('/home/klaus/dev/davis-2017/python/tools/metrics_mine_resnet18_0_offline.yml',\n",
    "                                               'J', ['mean', 'decay'])\n",
    "\n",
    "file_path_resnet34 = '/home/klaus/dev/davis-2017/python/tools/metrics_mine_resnet34_0_offline.yml'\n",
    "resnet34_J_mean_offline, resnet34_J_decay_offline, _ = get_metric(file_path_resnet34, 'J', ['mean', 'decay'])"
   ]
  },
  {
   "cell_type": "code",
   "execution_count": null,
   "metadata": {
    "scrolled": false
   },
   "outputs": [],
   "source": [
    "import plotly.offline as py\n",
    "import plotly.graph_objs as go\n",
    "py.init_notebook_mode(connected=True)\n",
    "\n",
    "\n",
    "def plot(keys, mode, metric, lower_higher, data):\n",
    "    data = [go.Bar(y=keys, x=x, name=name, orientation = 'h') for name, x in data]\n",
    "\n",
    "    title = '{metric} per object for each {mode} model ({lower_higher} is better)'.format(metric=metric,\n",
    "                                                                                          mode=mode,\n",
    "                                                                                          lower_higher=lower_higher)\n",
    "    layout = go.Layout(title=title, font=dict(family='Roboto'),\n",
    "                       xaxis=dict(title=metric, ticks='outside'),\n",
    "                       yaxis=dict(title='Object'),\n",
    "                       showlegend=True,\n",
    "                       bargap=0.5,\n",
    "                       autosize=False, height=1200,\n",
    "                       margin=go.Margin(l=120, r=0, b=80, t=100, pad=10)\n",
    "                      )\n",
    "    fig = go.Figure(data=data, layout=layout)\n",
    "    py.iplot(fig)\n",
    "    \n",
    "\n",
    "plot(keys, 'offline', 'J_mean', 'higher', [('vgg16', vgg16_J_mean_offline),\n",
    "                                           ('resnet18', resnet18_J_mean_offline),\n",
    "                                           ('resnet34', resnet34_J_mean_offline)])\n",
    "\n",
    "plot(keys, 'online', 'J_mean', 'higher', [('vgg16', vgg16_J_mean_online), \n",
    "                                          ('resnet18', resnet18_J_mean_online), \n",
    "                                          ('resnet34', resnet34_J_mean_online)])\n",
    "\n",
    "plot(keys, 'offline', 'J_decay', 'lower', [('vgg16', vgg16_J_decay_offline),\n",
    "                                           ('resnet18', resnet18_J_decay_offline), \n",
    "                                           ('resnet34', resnet34_J_decay_offline)])\n",
    "\n",
    "plot(keys, 'online', 'J_decay', 'lower', [('vgg16', vgg16_J_decay_online), \n",
    "                                          ('resnet18', resnet18_J_decay_online), \n",
    "                                          ('resnet34', resnet34_J_decay_online)])"
   ]
  },
  {
   "cell_type": "code",
   "execution_count": null,
   "metadata": {},
   "outputs": [],
   "source": []
  },
  {
   "cell_type": "code",
   "execution_count": null,
   "metadata": {},
   "outputs": [],
   "source": []
  },
  {
   "cell_type": "code",
   "execution_count": null,
   "metadata": {},
   "outputs": [],
   "source": []
  },
  {
   "cell_type": "code",
   "execution_count": null,
   "metadata": {},
   "outputs": [],
   "source": []
  },
  {
   "cell_type": "code",
   "execution_count": null,
   "metadata": {},
   "outputs": [],
   "source": []
  }
 ],
 "metadata": {
  "kernelspec": {
   "display_name": "Python 3",
   "language": "python",
   "name": "python3"
  },
  "language_info": {
   "codemirror_mode": {
    "name": "ipython",
    "version": 3
   },
   "file_extension": ".py",
   "mimetype": "text/x-python",
   "name": "python",
   "nbconvert_exporter": "python",
   "pygments_lexer": "ipython3",
   "version": "3.5.2"
  }
 },
 "nbformat": 4,
 "nbformat_minor": 2
}

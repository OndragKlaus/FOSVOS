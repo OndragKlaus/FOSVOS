{
 "cells": [
  {
   "cell_type": "code",
   "execution_count": null,
   "metadata": {},
   "outputs": [],
   "source": [
    "import yaml\n",
    "import numpy as np\n",
    "import plotly.offline as py\n",
    "import plotly.graph_objs as go\n",
    "py.init_notebook_mode(connected=True)"
   ]
  },
  {
   "cell_type": "code",
   "execution_count": null,
   "metadata": {},
   "outputs": [],
   "source": [
    "# vgg_offline = [0.13303649046087676, 0.13702463690715377, 0.14740927994587563, 0.1289781335452482, \n",
    "#               0.14052184160100295, 0.1387618266628124, 0.1857793310731982, 0.13425490652961242, \n",
    "#               0.28055499339678486, 0.16445140860014362, 0.13514927628915757, 0.13643909371457993, \n",
    "#               0.2372998551189423, 0.15148121105856263, 0.14518491085327695, 0.13757548328542796, \n",
    "#               0.15014617824694143, 0.14044136062031612, 0.14001724256862266, 0.13153993602143602]\n",
    "\n",
    "vgg_online = [0.12967097661923618, 0.10358332368778064, 0.11115749322509925, 0.11110801906842324, \n",
    "              0.10712683398587008, 0.10707225834485143, 0.10774916955807175, 0.11050828945460833, \n",
    "              0.11229459109793728, 0.10632391069353056, 0.10852409874089063, 0.1183402435000365, \n",
    "              0.10868921564426273, 0.12055579922161996, 0.10713510442886273, 0.12272120399866253, \n",
    "              0.10900427208980545, 0.10973839045967906, 0.11017951669799554, 0.11012743325254908]\n",
    "\n",
    "resnet18_offline = [0.062487243021344195, 0.06456158840446732, 0.08278184165376135, 0.055574398689294376, \n",
    "                   0.05783046996479647, 0.05360557945386972, 0.07962039374702033, 0.0528564055592546, \n",
    "                   0.05275947878236008, 0.05066739470203174, 0.06006945835892111, 0.06186209226337572, \n",
    "                   0.06682056005296926, 0.048806411938276145, 0.06544185237726197, 0.06215767363140073, \n",
    "                   0.09588782688369975, 0.09519702803809196, 0.06752330269664526, 0.05974815030116588]\n",
    "\n",
    "resnet18_online = [0.06547768156044186, 0.047021044560824524, 0.04621925651251028, 0.0428798613888729, \n",
    "                   0.04441057475904624, 0.04002005132497288, 0.0403116012412983, 0.04599757410016739, \n",
    "                   0.03824124009891724, 0.042240881208831876, 0.04195611977949738, 0.0430359962887855, \n",
    "                   0.043838175856508316, 0.04600735927931964, 0.0463504199584832, 0.0469913090521004, \n",
    "                   0.0383092898351606, 0.04930637510027736, 0.03675893242037747, 0.04680339899854829]\n",
    "\n",
    "\n",
    "# resnet34_offline = []\n",
    "\n",
    "resnet34_online = [0.07127550804056228, 0.03868547879974358, 0.042875476547383835, 0.03437592254227234, \n",
    "                   0.04788218307929734, 0.03747621234506369, 0.03972239276089777, 0.03649723583366722, \n",
    "                   0.03794671658348913, 0.04322395925051891, 0.037270485078915956, 0.03693719773501572, \n",
    "                   0.054188627917319536, 0.03833041780162603, 0.04230912522488863, 0.0518314391549211, \n",
    "                   0.03771994879934937, 0.0396507364907302, 0.03978334581696017, 0.041809114836852505]"
   ]
  },
  {
   "cell_type": "code",
   "execution_count": null,
   "metadata": {
    "scrolled": false
   },
   "outputs": [],
   "source": [
    "n_bins = 0\n",
    "data = [go.Histogram(x=vgg_online, name='vgg_online', nbinsx=n_bins),\n",
    "        go.Histogram(x=resnet18_online, name='resnet18_online', nbinsx=n_bins),\n",
    "        go.Histogram(x=resnet34_online, name='resnet34_online', nbinsx=n_bins),\n",
    "        go.Histogram(x=resnet18_offline, name='resnet18_offline', nbinsx=n_bins)]\n",
    "\n",
    "layout = go.Layout(title=('Average forward times per object for each model'),\n",
    "                   font=dict(family='Roboto'),\n",
    "                   xaxis=dict(title='Forward times in seconds', fixedrange=True, \n",
    "                              ticks='outside', nticks=16),\n",
    "                   yaxis=dict(title='Count', fixedrange=True),\n",
    "                   showlegend=True\n",
    "                  )\n",
    "fig = go.Figure(data=data, layout=layout)\n",
    "py.iplot(fig, filename='forward_times.png')"
   ]
  },
  {
   "cell_type": "code",
   "execution_count": null,
   "metadata": {},
   "outputs": [],
   "source": [
    "def get_metric(file_path, metric, parts):\n",
    "    with open(file_path, 'r') as stream:\n",
    "        model_eval = yaml.load(stream)\n",
    "    keys = sorted(model_eval['sequence'].keys(), reverse=True)\n",
    "    stats = [[model_eval['sequence'][k][metric][p][0] for p in parts]\n",
    "             for k in keys]\n",
    "    part_0, part_1 = list(zip(*stats))\n",
    "    return part_0, part_1, keys\n",
    "\n",
    "vgg16_J_mean_online, vgg16_J_decay_online, keys = get_metric('/home/klaus/dev/davis-2017/python/tools/metrics_mine_vgg16_online.yml',\n",
    "                                         'J', ['mean', 'decay'])\n",
    "                                         \n",
    "resnet18_J_mean_online, resnet18_J_decay_online, _ = get_metric('/home/klaus/dev/davis-2017/python/tools/metrics_mine_resnet18_0_1.yml',\n",
    "                                               'J', ['mean', 'decay'])\n",
    "\n",
    "file_path_resnet34 = '/home/klaus/dev/davis-2017/python/tools/metrics_mine_resnet34_0_1.yml'\n",
    "resnet34_J_mean_online, resnet34_J_decay_online, _ = get_metric(file_path_resnet34, 'J', ['mean', 'decay'])\n",
    "\n",
    "\n",
    "vgg16_J_mean_offline, vgg16_J_decay_offline, _ = get_metric('/home/klaus/dev/davis-2017/python/tools/metrics_mine_vgg16_offline.yml',\n",
    "                                         'J', ['mean', 'decay'])\n",
    "                                         \n",
    "resnet18_J_mean_offline, resnet18_J_decay_offline, _ = get_metric('/home/klaus/dev/davis-2017/python/tools/metrics_mine_resnet18_0_offline.yml',\n",
    "                                               'J', ['mean', 'decay'])\n",
    "\n",
    "file_path_resnet34 = '/home/klaus/dev/davis-2017/python/tools/metrics_mine_resnet34_0_offline.yml'\n",
    "resnet34_J_mean_offline, resnet34_J_decay_offline, _ = get_metric(file_path_resnet34, 'J', ['mean', 'decay'])"
   ]
  },
  {
   "cell_type": "code",
   "execution_count": null,
   "metadata": {
    "scrolled": false
   },
   "outputs": [],
   "source": [
    "import plotly.offline as py\n",
    "import plotly.graph_objs as go\n",
    "py.init_notebook_mode(connected=True)\n",
    "\n",
    "\n",
    "def plot(x, mode, data):\n",
    "    data = [go.Bar(x=x, y=y, name=name) for name, y in data]\n",
    "\n",
    "    layout = go.Layout(title=('Average forward times per object for each model ' + mode),\n",
    "                       font=dict(family='Roboto'),\n",
    "                       xaxis=dict(title='Forward times in seconds', \n",
    "                                  ticks='outside'),\n",
    "                       yaxis=dict(title='Count'),\n",
    "                       showlegend=True\n",
    "                      )\n",
    "    fig = go.Figure(data=data, layout=layout)\n",
    "    py.iplot(fig, filename='forward_times.png')\n",
    "    \n",
    "\n",
    "plot(keys, 'offline', [('vgg16_J_mean_offline', vgg16_J_mean_offline),\n",
    "                       ('resnet18_J_mean_offline', resnet18_J_mean_offline),\n",
    "                       ('resnet34_J_mean_offline', resnet34_J_mean_offline)])\n",
    "\n",
    "plot(keys, 'online', [('vgg16_J_mean', vgg16_J_mean_online), \n",
    "                      ('resnet18_J_mean', resnet18_J_mean_online), \n",
    "                      ('resnet34_J_mean', resnet34_J_mean_online)])\n",
    "\n",
    "plot(keys, 'offline', [('vgg16_J_decay', vgg16_J_decay_offline),\n",
    "                       ('resnet18_J_decay', resnet18_J_decay_offline), \n",
    "                       ('resnet34_J_decay', resnet34_J_decay_offline)])\n",
    "\n",
    "plot(keys, 'online', [('vgg16_J_decay', vgg16_J_decay_online), \n",
    "                      ('resnet18_J_decay', resnet18_J_decay_online), \n",
    "                      ('resnet34_J_decay', resnet34_J_decay_online)])"
   ]
  },
  {
   "cell_type": "code",
   "execution_count": null,
   "metadata": {},
   "outputs": [],
   "source": []
  },
  {
   "cell_type": "code",
   "execution_count": null,
   "metadata": {},
   "outputs": [],
   "source": []
  },
  {
   "cell_type": "code",
   "execution_count": null,
   "metadata": {},
   "outputs": [],
   "source": []
  },
  {
   "cell_type": "code",
   "execution_count": null,
   "metadata": {},
   "outputs": [],
   "source": []
  },
  {
   "cell_type": "code",
   "execution_count": null,
   "metadata": {},
   "outputs": [],
   "source": []
  }
 ],
 "metadata": {
  "kernelspec": {
   "display_name": "Python 3",
   "language": "python",
   "name": "python3"
  },
  "language_info": {
   "codemirror_mode": {
    "name": "ipython",
    "version": 3
   },
   "file_extension": ".py",
   "mimetype": "text/x-python",
   "name": "python",
   "nbconvert_exporter": "python",
   "pygments_lexer": "ipython3",
   "version": "3.5.2"
  }
 },
 "nbformat": 4,
 "nbformat_minor": 2
}

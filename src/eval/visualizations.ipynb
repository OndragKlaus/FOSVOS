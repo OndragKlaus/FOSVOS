{
 "cells": [
  {
   "cell_type": "code",
   "execution_count": null,
   "metadata": {},
   "outputs": [],
   "source": [
    "from pathlib import Path\n",
    "\n",
    "import yaml\n",
    "import numpy as np\n",
    "import imageio\n",
    "from moviepy.editor import ImageSequenceClip\n",
    "from IPython.display import display\n",
    "import plotly.offline as py\n",
    "import plotly.graph_objs as go\n",
    "py.init_notebook_mode(connected=True)"
   ]
  },
  {
   "cell_type": "code",
   "execution_count": null,
   "metadata": {},
   "outputs": [],
   "source": [
    "data = [('vgg16', 0.08083438105769455, 'rgba(31, 119, 180, 1)'), \n",
    "        ('resnet18', 0.010670146435228262, 'rgba(255, 127, 14, 1)'),\n",
    "        ('resnet34', 0.013862044609998438, 'rgba(44, 160, 44, 1)')]\n",
    "names, speeds, colors = zip(*data)\n",
    "data = [go.Bar(y=[speed], x=[name], name=name) for name, speed, color in data]\n",
    "\n",
    "layout = go.Layout(title=('Average forward speed for each model (lower is better)'),\n",
    "                   font=dict(family='Roboto'),\n",
    "                   xaxis=dict(title='model', ticks='outside'),\n",
    "                   yaxis=dict(title='Forward speed per image in seconds'),\n",
    "                   showlegend=True\n",
    "                  )\n",
    "fig = go.Figure(data=data, layout=layout)\n",
    "py.iplot(fig)\n",
    "    "
   ]
  },
  {
   "cell_type": "code",
   "execution_count": null,
   "metadata": {},
   "outputs": [],
   "source": [
    "def get_metric(file_path, metric, parts):\n",
    "    with open(file_path, 'r') as stream:\n",
    "        model_eval = yaml.load(stream)\n",
    "    keys = sorted(model_eval['sequence'].keys(), reverse=True)\n",
    "    stats = [[model_eval['sequence'][k][metric][p][0] for p in parts]\n",
    "             for k in keys]\n",
    "    part_0, part_1 = list(zip(*stats))\n",
    "    return part_0, part_1, keys\n",
    "\n",
    "vgg16_J_mean_online, vgg16_J_decay_online, keys = get_metric('/home/klaus/dev/davis-2017/python/tools/metrics_mine_vgg16_online.yml',\n",
    "                                         'J', ['mean', 'decay'])\n",
    "                                         \n",
    "resnet18_J_mean_online, resnet18_J_decay_online, _ = get_metric('/home/klaus/dev/davis-2017/python/tools/metrics_mine_resnet18_0_1.yml',\n",
    "                                               'J', ['mean', 'decay'])\n",
    "\n",
    "file_path_resnet34 = '/home/klaus/dev/davis-2017/python/tools/metrics_mine_resnet34_0_1.yml'\n",
    "resnet34_J_mean_online, resnet34_J_decay_online, _ = get_metric(file_path_resnet34, 'J', ['mean', 'decay'])\n",
    "\n",
    "\n",
    "vgg16_J_mean_offline, vgg16_J_decay_offline, _ = get_metric('/home/klaus/dev/davis-2017/python/tools/metrics_mine_vgg16_offline.yml',\n",
    "                                         'J', ['mean', 'decay'])\n",
    "                                         \n",
    "resnet18_J_mean_offline, resnet18_J_decay_offline, _ = get_metric('/home/klaus/dev/davis-2017/python/tools/metrics_mine_resnet18_0_offline.yml',\n",
    "                                               'J', ['mean', 'decay'])\n",
    "\n",
    "file_path_resnet34 = '/home/klaus/dev/davis-2017/python/tools/metrics_mine_resnet34_0_offline.yml'\n",
    "resnet34_J_mean_offline, resnet34_J_decay_offline, _ = get_metric(file_path_resnet34, 'J', ['mean', 'decay'])"
   ]
  },
  {
   "cell_type": "code",
   "execution_count": null,
   "metadata": {
    "scrolled": true
   },
   "outputs": [],
   "source": [
    "import plotly.offline as py\n",
    "import plotly.graph_objs as go\n",
    "py.init_notebook_mode(connected=True)\n",
    "\n",
    "\n",
    "def plot(keys, metric, lower_higher, data):\n",
    "    data = [go.Bar(y=keys, x=x, name=name, orientation = 'h') for name, x in data]\n",
    "\n",
    "    title = '{metric} per object for each model ({lower_higher} is better)'.format(metric=metric,\n",
    "                                                                                   lower_higher=lower_higher)\n",
    "    layout = go.Layout(title=title,\n",
    "                       font=dict(family='Roboto'),\n",
    "                       xaxis=dict(title=metric, ticks='outside'),\n",
    "                       yaxis=dict(title='Object'),\n",
    "                       showlegend=True,\n",
    "                       bargap=0.5,\n",
    "                       autosize=False, height=2400,\n",
    "                       margin=go.Margin(l=120, r=0, b=80, t=100, pad=10)\n",
    "                      )\n",
    "    fig = go.Figure(data=data, layout=layout)\n",
    "    py.iplot(fig)\n",
    "    \n",
    "\n",
    "plot(keys, 'J_mean', 'higher', [('vgg16_offline', vgg16_J_mean_offline),\n",
    "                                ('resnet18_offline', resnet18_J_mean_offline),\n",
    "                                ('resnet34_offline', resnet34_J_mean_offline),\n",
    "                                ('vgg16_online', vgg16_J_mean_online), \n",
    "                                ('resnet18_online', resnet18_J_mean_online), \n",
    "                                ('resnet34_online', resnet34_J_mean_online)])\n",
    "\n",
    "plot(keys, 'J_decay', 'lower', [('vgg16_offline', vgg16_J_decay_offline),\n",
    "                                ('resnet18_offline', resnet18_J_decay_offline), \n",
    "                                ('resnet34_offline', resnet34_J_decay_offline),\n",
    "                                ('vgg16_online', vgg16_J_decay_online), \n",
    "                                ('resnet18_online', resnet18_J_decay_online), \n",
    "                                ('resnet34_online', resnet34_J_decay_online)])"
   ]
  },
  {
   "cell_type": "code",
   "execution_count": null,
   "metadata": {
    "scrolled": true
   },
   "outputs": [],
   "source": [
    "def convert_to_rgb(image):\n",
    "    if len(image.shape) == 2:\n",
    "        width, height = image.shape\n",
    "        rgb =  np.empty((width, height, 3), dtype=np.uint8)\n",
    "        rgb[:, :, :] = image[:, :, None]\n",
    "        return rgb\n",
    "    else:\n",
    "        return image\n",
    "\n",
    "def display_video(path, loop = True, fps = 25):\n",
    "    files = Path(path).iterdir()\n",
    "    files = map(str, files)\n",
    "    files = sorted(files)\n",
    "    files = map(imageio.imread, files)\n",
    "    files = map(convert_to_rgb, files)\n",
    "    files = list(files)\n",
    "    clip = ImageSequenceClip(files, fps=fps)\n",
    "    display(clip.ipython_display(loop=loop))\n",
    "\n",
    "loop = True\n",
    "fps = 25\n",
    "c = display_video('/home/klaus/dev/datasets/DAVIS/JPEGImages/480p/car-shadow/', loop, fps)\n",
    "c = display_video('/home/klaus/dev/datasets/DAVIS/Annotations/480p/car-shadow/', loop, fps)\n",
    "c = display_video('/home/klaus/dev/fast-osvos/src/results/vgg16/offline/car-shadow/', loop, fps)\n",
    "c = display_video('/home/klaus/dev/fast-osvos/src/results/resnet18/0/1/car-shadow/', loop, fps)\n",
    "c = display_video('/home/klaus/dev/fast-osvos/src/results/resnet34/0/1/car-shadow/', loop, fps)"
   ]
  },
  {
   "cell_type": "code",
   "execution_count": null,
   "metadata": {},
   "outputs": [],
   "source": []
  },
  {
   "cell_type": "code",
   "execution_count": null,
   "metadata": {},
   "outputs": [],
   "source": []
  },
  {
   "cell_type": "code",
   "execution_count": null,
   "metadata": {},
   "outputs": [],
   "source": []
  },
  {
   "cell_type": "code",
   "execution_count": null,
   "metadata": {},
   "outputs": [],
   "source": []
  }
 ],
 "metadata": {
  "kernelspec": {
   "display_name": "Python 3",
   "language": "python",
   "name": "python3"
  },
  "language_info": {
   "codemirror_mode": {
    "name": "ipython",
    "version": 3
   },
   "file_extension": ".py",
   "mimetype": "text/x-python",
   "name": "python",
   "nbconvert_exporter": "python",
   "pygments_lexer": "ipython3",
   "version": "3.5.2"
  }
 },
 "nbformat": 4,
 "nbformat_minor": 2
}

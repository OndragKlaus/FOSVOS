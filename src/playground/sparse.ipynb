{
 "cells": [
  {
   "cell_type": "markdown",
   "metadata": {},
   "source": [
    "# Basic sparse example"
   ]
  },
  {
   "cell_type": "code",
   "execution_count": null,
   "metadata": {},
   "outputs": [],
   "source": [
    "import numpy as np\n",
    "from scipy.linalg import circulant\n",
    "from scipy.sparse import csr_matrix"
   ]
  },
  {
   "cell_type": "code",
   "execution_count": null,
   "metadata": {},
   "outputs": [],
   "source": [
    "x = (np.arange(4) * 2 + 1).reshape((2, 2))\n",
    "x = np.pad(x, 1, 'constant')\n",
    "n_rows_in_x, n_columns_in_x = x.shape\n",
    "x = x.reshape((-1))\n",
    "n_elements_in_x = len(x)\n",
    "x"
   ]
  },
  {
   "cell_type": "code",
   "execution_count": null,
   "metadata": {},
   "outputs": [],
   "source": [
    "w = (np.arange(4) + 10).reshape((2, 2))\n",
    "n_rows_in_w, n_columns_in_w = w.shape\n",
    "w"
   ]
  },
  {
   "cell_type": "code",
   "execution_count": null,
   "metadata": {},
   "outputs": [],
   "source": [
    "f = np.zeros((n_rows_in_x, n_columns_in_x))\n",
    "f[:n_rows_in_w, :n_columns_in_w] = w\n",
    "f = f.reshape(-1)\n",
    "f"
   ]
  },
  {
   "cell_type": "code",
   "execution_count": null,
   "metadata": {},
   "outputs": [],
   "source": [
    "w = circulant(f).T\n",
    "w = csr_matrix(w)\n",
    "w.toarray()"
   ]
  },
  {
   "cell_type": "code",
   "execution_count": null,
   "metadata": {},
   "outputs": [],
   "source": [
    "stride = 1\n",
    "n_rows_in_output = int(np.floor((n_rows_in_x - n_rows_in_w) / stride + 1))\n",
    "n_columns_in_output = int(np.floor((n_columns_in_x - n_columns_in_w) / stride + 1))\n",
    "\n",
    "indices = np.zeros(w.shape[0], dtype=bool)\n",
    "for index_row, index_start in enumerate(range(0, indices.shape[0], n_columns_in_x)):\n",
    "    if index_row >= n_rows_in_output:\n",
    "        break\n",
    "    index_end = index_start + n_columns_in_output\n",
    "    indices[index_start:index_end] = [True] * n_columns_in_output\n",
    "\n",
    "if n_rows_in_output * n_columns_in_output != np.sum(indices):\n",
    "    raise Exception('Sum of indices should match the values in output')\n",
    "indices"
   ]
  },
  {
   "cell_type": "code",
   "execution_count": null,
   "metadata": {},
   "outputs": [],
   "source": [
    "w = w[indices, :]\n",
    "w.toarray()"
   ]
  },
  {
   "cell_type": "code",
   "execution_count": null,
   "metadata": {},
   "outputs": [],
   "source": [
    "goal = [[10, 11, 0, 0, 12, 13, 0, 0, 0, 0, 0, 0, 0, 0, 0, 0],\n",
    "        [0, 10, 11, 0, 0, 12, 13, 0, 0, 0, 0, 0, 0, 0, 0, 0],\n",
    "        [0, 0, 10, 11, 0, 0, 12, 13, 0, 0, 0, 0, 0, 0, 0, 0],\n",
    "        [0, 0, 0, 0, 10, 11, 0, 0, 12, 13, 0, 0, 0, 0, 0, 0],\n",
    "        [0, 0, 0, 0, 0, 10, 11, 0, 0, 12, 13, 0, 0, 0, 0, 0],\n",
    "        [0, 0, 0, 0, 0, 0, 10, 11, 0, 0, 12, 13, 0, 0, 0, 0],\n",
    "        [0, 0, 0, 0, 0, 0, 0, 0, 10, 11, 0, 0, 12, 13, 0, 0],\n",
    "        [0, 0, 0, 0, 0, 0, 0, 0, 0, 10, 11, 0, 0, 12, 13, 0],\n",
    "        [0, 0, 0, 0, 0, 0, 0, 0, 0, 0, 10, 11, 0, 0, 12, 13]]\n",
    "np.sum(w.toarray() - goal != 0)"
   ]
  },
  {
   "cell_type": "markdown",
   "metadata": {},
   "source": [
    "# Real data"
   ]
  },
  {
   "cell_type": "code",
   "execution_count": null,
   "metadata": {},
   "outputs": [],
   "source": [
    "from typing import Optional\n",
    "\n",
    "import numpy as np\n",
    "from scipy.linalg import circulant\n",
    "from scipy.sparse import csr_matrix"
   ]
  },
  {
   "cell_type": "code",
   "execution_count": null,
   "metadata": {},
   "outputs": [],
   "source": [
    "def load(x: str) -> np.ndarray:\n",
    "    x = np.load('{}.npy'.format(x))\n",
    "    x = x[0, 0, :, :]\n",
    "    print(x.shape)\n",
    "    return x\n",
    "\n",
    "x = load('x')\n",
    "y = load('y')\n",
    "w = load('w')\n",
    "\n",
    "x = np.pad(x, 1, 'constant')\n",
    "n_rows_in_x, n_columns_in_x = x.shape\n",
    "x = x.reshape((-1))\n",
    "n_rows_in_w, n_columns_in_w = w.shape"
   ]
  },
  {
   "cell_type": "code",
   "execution_count": null,
   "metadata": {},
   "outputs": [],
   "source": [
    "f = np.zeros((n_rows_in_x, n_columns_in_x))\n",
    "f[:n_rows_in_w, :n_columns_in_w] = w\n",
    "f = f.reshape(-1)"
   ]
  },
  {
   "cell_type": "code",
   "execution_count": null,
   "metadata": {},
   "outputs": [],
   "source": [
    "w = circulant(f).T\n",
    "w = csr_matrix(w)\n",
    "w.shape"
   ]
  },
  {
   "cell_type": "code",
   "execution_count": null,
   "metadata": {},
   "outputs": [],
   "source": [
    "stride = 1\n",
    "n_rows_in_output = int(np.floor((n_rows_in_x - n_rows_in_w) / stride + 1))\n",
    "n_columns_in_output = int(np.floor((n_columns_in_x - n_columns_in_w) / stride + 1))\n",
    "\n",
    "indices = np.zeros(w.shape[0], dtype=bool)\n",
    "for index_row, index_start in enumerate(range(0, indices.shape[0], n_columns_in_x)):\n",
    "    if index_row >= n_rows_in_output:\n",
    "        break\n",
    "    index_end = index_start + n_columns_in_output\n",
    "    indices[index_start:index_end] = [True] * n_columns_in_output\n",
    "\n",
    "if n_rows_in_output * n_columns_in_output != np.sum(indices):\n",
    "    raise Exception('Sum of indices should match the values in output')\n",
    "    \n",
    "w = w[indices, :]\n",
    "w.shape"
   ]
  },
  {
   "cell_type": "code",
   "execution_count": null,
   "metadata": {},
   "outputs": [],
   "source": []
  },
  {
   "cell_type": "code",
   "execution_count": null,
   "metadata": {},
   "outputs": [],
   "source": []
  },
  {
   "cell_type": "code",
   "execution_count": null,
   "metadata": {},
   "outputs": [],
   "source": []
  },
  {
   "cell_type": "code",
   "execution_count": null,
   "metadata": {},
   "outputs": [],
   "source": []
  },
  {
   "cell_type": "code",
   "execution_count": null,
   "metadata": {},
   "outputs": [],
   "source": []
  },
  {
   "cell_type": "code",
   "execution_count": null,
   "metadata": {},
   "outputs": [],
   "source": []
  },
  {
   "cell_type": "code",
   "execution_count": null,
   "metadata": {},
   "outputs": [],
   "source": []
  },
  {
   "cell_type": "code",
   "execution_count": null,
   "metadata": {},
   "outputs": [],
   "source": []
  },
  {
   "cell_type": "code",
   "execution_count": null,
   "metadata": {},
   "outputs": [],
   "source": []
  },
  {
   "cell_type": "code",
   "execution_count": null,
   "metadata": {},
   "outputs": [],
   "source": []
  }
 ],
 "metadata": {
  "kernelspec": {
   "display_name": "Python 3",
   "language": "python",
   "name": "python3"
  },
  "language_info": {
   "codemirror_mode": {
    "name": "ipython",
    "version": 3
   },
   "file_extension": ".py",
   "mimetype": "text/x-python",
   "name": "python",
   "nbconvert_exporter": "python",
   "pygments_lexer": "ipython3",
   "version": "3.5.2"
  }
 },
 "nbformat": 4,
 "nbformat_minor": 2
}

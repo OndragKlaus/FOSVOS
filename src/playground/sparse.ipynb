{
 "cells": [
  {
   "cell_type": "markdown",
   "metadata": {},
   "source": [
    "# Basic sparse example"
   ]
  },
  {
   "cell_type": "code",
   "execution_count": null,
   "metadata": {},
   "outputs": [],
   "source": [
    "import numpy as np\n",
    "from scipy.linalg import circulant\n",
    "from scipy.sparse import csr_matrix"
   ]
  },
  {
   "cell_type": "code",
   "execution_count": null,
   "metadata": {},
   "outputs": [],
   "source": [
    "x = (np.arange(4) * 2 + 1).reshape((2, 2))\n",
    "x = np.pad(x, 1, 'constant')\n",
    "n_rows_in_x, n_columns_in_x = x.shape\n",
    "x = x.reshape((-1))\n",
    "n_elements_in_x = len(x)\n",
    "x"
   ]
  },
  {
   "cell_type": "code",
   "execution_count": null,
   "metadata": {},
   "outputs": [],
   "source": [
    "w = (np.arange(4) + 10).reshape((2, 2))\n",
    "n_rows_in_w, n_columns_in_w = w.shape\n",
    "w"
   ]
  },
  {
   "cell_type": "code",
   "execution_count": null,
   "metadata": {},
   "outputs": [],
   "source": [
    "f = np.zeros((n_rows_in_x, n_columns_in_x))\n",
    "f[:n_rows_in_w, :n_columns_in_w] = w\n",
    "f = f.reshape(-1)\n",
    "f"
   ]
  },
  {
   "cell_type": "code",
   "execution_count": null,
   "metadata": {},
   "outputs": [],
   "source": [
    "w = circulant(f).T\n",
    "w = csr_matrix(w)\n",
    "w.toarray()"
   ]
  },
  {
   "cell_type": "code",
   "execution_count": null,
   "metadata": {},
   "outputs": [],
   "source": [
    "stride = 1\n",
    "n_rows_in_output = int(np.floor((n_rows_in_x - n_rows_in_w) / stride + 1))\n",
    "n_columns_in_output = int(np.floor((n_columns_in_x - n_columns_in_w) / stride + 1))\n",
    "\n",
    "indices = np.zeros(w.shape[0], dtype=bool)\n",
    "for index_row, index_start in enumerate(range(0, indices.shape[0], n_columns_in_x)):\n",
    "    if index_row >= n_rows_in_output:\n",
    "        break\n",
    "    index_end = index_start + n_columns_in_output\n",
    "    indices[index_start:index_end] = [True] * n_columns_in_output\n",
    "\n",
    "if n_rows_in_output * n_columns_in_output != np.sum(indices):\n",
    "    raise Exception('Sum of indices should match the values in output')\n",
    "indices"
   ]
  },
  {
   "cell_type": "code",
   "execution_count": null,
   "metadata": {},
   "outputs": [],
   "source": [
    "w = w[indices, :]\n",
    "w.toarray()"
   ]
  },
  {
   "cell_type": "code",
   "execution_count": null,
   "metadata": {},
   "outputs": [],
   "source": [
    "goal = [[10, 11, 0, 0, 12, 13, 0, 0, 0, 0, 0, 0, 0, 0, 0, 0],\n",
    "        [0, 10, 11, 0, 0, 12, 13, 0, 0, 0, 0, 0, 0, 0, 0, 0],\n",
    "        [0, 0, 10, 11, 0, 0, 12, 13, 0, 0, 0, 0, 0, 0, 0, 0],\n",
    "        [0, 0, 0, 0, 10, 11, 0, 0, 12, 13, 0, 0, 0, 0, 0, 0],\n",
    "        [0, 0, 0, 0, 0, 10, 11, 0, 0, 12, 13, 0, 0, 0, 0, 0],\n",
    "        [0, 0, 0, 0, 0, 0, 10, 11, 0, 0, 12, 13, 0, 0, 0, 0],\n",
    "        [0, 0, 0, 0, 0, 0, 0, 0, 10, 11, 0, 0, 12, 13, 0, 0],\n",
    "        [0, 0, 0, 0, 0, 0, 0, 0, 0, 10, 11, 0, 0, 12, 13, 0],\n",
    "        [0, 0, 0, 0, 0, 0, 0, 0, 0, 0, 10, 11, 0, 0, 12, 13]]\n",
    "np.sum(w.toarray() - goal != 0)"
   ]
  },
  {
   "cell_type": "markdown",
   "metadata": {},
   "source": [
    "# Real data"
   ]
  },
  {
   "cell_type": "code",
   "execution_count": null,
   "metadata": {},
   "outputs": [],
   "source": [
    "from typing import Optional\n",
    "from timeit import default_timer\n",
    "\n",
    "import numpy as np\n",
    "from scipy import sparse, linalg\n",
    "from scipy.sparse import csr_matrix\n",
    "from tqdm import tqdm"
   ]
  },
  {
   "cell_type": "code",
   "execution_count": null,
   "metadata": {},
   "outputs": [],
   "source": [
    "def load(x: str) -> np.ndarray:\n",
    "    x = np.load('{}.npy'.format(x))\n",
    "    x = x[0, 0, :, :]\n",
    "    print(x.shape)\n",
    "    return x\n",
    "\n",
    "x = load('x')\n",
    "y = load('y')\n",
    "w = load('w')\n",
    "\n",
    "x = np.pad(x, 1, 'constant')\n",
    "n_rows_in_x, n_columns_in_x = x.shape\n",
    "x = x.reshape((-1))\n",
    "n_rows_in_w, n_columns_in_w = w.shape"
   ]
  },
  {
   "cell_type": "code",
   "execution_count": null,
   "metadata": {},
   "outputs": [],
   "source": [
    "time_start = default_timer()\n",
    "f = np.zeros((n_rows_in_x, n_columns_in_x))\n",
    "f[:n_rows_in_w, :n_columns_in_w] = w\n",
    "f = f.reshape(-1)\n",
    "print(default_timer() - time_start)"
   ]
  },
  {
   "cell_type": "code",
   "execution_count": null,
   "metadata": {},
   "outputs": [],
   "source": [
    "time_start = default_timer()\n",
    "w = linalg.circulant(f).T\n",
    "w = csr_matrix(w)\n",
    "print(w.shape)\n",
    "print(default_timer() - time_start)"
   ]
  },
  {
   "cell_type": "code",
   "execution_count": null,
   "metadata": {},
   "outputs": [],
   "source": [
    "time_start = default_timer()\n",
    "stride = 1\n",
    "n_rows_in_output = int(np.floor((n_rows_in_x - n_rows_in_w) / stride + 1))\n",
    "n_columns_in_output = int(np.floor((n_columns_in_x - n_columns_in_w) / stride + 1))\n",
    "\n",
    "indices = np.zeros(w.shape[0], dtype=bool)\n",
    "for index_row, index_start in enumerate(range(0, indices.shape[0], n_columns_in_x)):\n",
    "    if index_row >= n_rows_in_output:\n",
    "        break\n",
    "    index_end = index_start + n_columns_in_output\n",
    "    indices[index_start:index_end] = [True] * n_columns_in_output\n",
    "\n",
    "if n_rows_in_output * n_columns_in_output != np.sum(indices):\n",
    "    raise Exception('Sum of indices should match the values in output')\n",
    "    \n",
    "w = w[indices, :]\n",
    "print(w.shape)\n",
    "print(default_timer() - time_start)"
   ]
  },
  {
   "cell_type": "code",
   "execution_count": null,
   "metadata": {},
   "outputs": [],
   "source": [
    "x = x.reshape((-1, 1))\n",
    "y = y.reshape((-1, 1))"
   ]
  },
  {
   "cell_type": "code",
   "execution_count": null,
   "metadata": {},
   "outputs": [],
   "source": []
  },
  {
   "cell_type": "code",
   "execution_count": null,
   "metadata": {},
   "outputs": [],
   "source": [
    "time_start = default_timer()\n",
    "original_w = w\n",
    "refined_w = original_w.copy()\n",
    "\n",
    "for i in tqdm(range(y.shape[0])):\n",
    "    pass\n",
    "    # w_tf, num_iter_tf = _trim_layer(X=X, y=Y[i, :], rho=5, alpha=1.8, lmbda=4)\n",
    "    # refined_w[:, i] = w_tf\n",
    "\n",
    "print('number of non-zero values in the original weight matrix = ', np.sum(original_w != 0))\n",
    "print('number of non-zero values in the refined weight matrix = ', np.sum(refined_w != 0))\n",
    "print(default_timer() - time_start)"
   ]
  },
  {
   "cell_type": "code",
   "execution_count": null,
   "metadata": {},
   "outputs": [],
   "source": [
    "y_orig = y"
   ]
  },
  {
   "cell_type": "code",
   "execution_count": null,
   "metadata": {},
   "outputs": [],
   "source": []
  },
  {
   "cell_type": "code",
   "execution_count": null,
   "metadata": {},
   "outputs": [],
   "source": []
  },
  {
   "cell_type": "code",
   "execution_count": null,
   "metadata": {},
   "outputs": [],
   "source": [
    "def load(x: str) -> np.ndarray:\n",
    "    x = np.load('{}.npy'.format(x))\n",
    "    x = x[0, 0, :, :]\n",
    "    print(x.shape)\n",
    "    return x\n",
    "\n",
    "x = load('x')\n",
    "y = load('y')\n",
    "\n",
    "x = np.pad(x, 1, 'constant')\n",
    "x = x.reshape((-1))\n",
    "\n",
    "x = x.reshape((-1, 1))\n",
    "y = y.reshape((-1, 1))"
   ]
  },
  {
   "cell_type": "code",
   "execution_count": null,
   "metadata": {},
   "outputs": [],
   "source": [
    "y = y[0, :]"
   ]
  },
  {
   "cell_type": "code",
   "execution_count": null,
   "metadata": {},
   "outputs": [],
   "source": [
    "time_start = default_timer()\n",
    "rho = 5\n",
    "alpha = 1.8\n",
    "lmbda = 4\n",
    "\n",
    "lmbda = 1 / lmbda\n",
    "y = np.reshape(y, newshape=(1, -1))  # make sure y is a row vector\n",
    "N = x.shape[0]\n",
    "\n",
    "if y.shape[1] != x.shape[1]:\n",
    "    raise ValueError(\"Dimensions of input data, X & y, are not consistent.\")\n",
    "\n",
    "print(default_timer() - time_start)"
   ]
  },
  {
   "cell_type": "code",
   "execution_count": null,
   "metadata": {},
   "outputs": [],
   "source": []
  },
  {
   "cell_type": "code",
   "execution_count": null,
   "metadata": {},
   "outputs": [],
   "source": []
  },
  {
   "cell_type": "code",
   "execution_count": null,
   "metadata": {},
   "outputs": [],
   "source": [
    "time_start = default_timer()\n",
    "Q = csr_matrix(x)\n",
    "Q = Q @ Q.T\n",
    "Q *= lmbda\n",
    "print(default_timer() - time_start)"
   ]
  },
  {
   "cell_type": "code",
   "execution_count": null,
   "metadata": {},
   "outputs": [],
   "source": [
    "time_start = default_timer()\n",
    "q = -lmbda * x @ y.T\n",
    "q = csr_matrix(1 / 2 + np.vstack([q, -q]))\n",
    "\n",
    "P = csr_matrix((x.shape[0], 0))\n",
    "P = P.T\n",
    "P = sparse.hstack([P, -P])\n",
    "\n",
    "c = csr_matrix((0, 1))\n",
    "print(default_timer() - time_start)"
   ]
  },
  {
   "cell_type": "code",
   "execution_count": null,
   "metadata": {},
   "outputs": [],
   "source": [
    "time_start = default_timer()\n",
    "tmp = csr_matrix([[1, -1], [-1, 1]])\n",
    "Q = sparse.kron(tmp, Q)\n",
    "print(default_timer() - time_start)"
   ]
  },
  {
   "cell_type": "code",
   "execution_count": null,
   "metadata": {},
   "outputs": [],
   "source": [
    "time_start = default_timer()\n",
    "A = sparse.vstack([P, -sparse.eye(2 * N, 2 * N)])\n",
    "c = sparse.vstack([c, csr_matrix((2 * N, 1))])\n",
    "print(default_timer() - time_start)"
   ]
  },
  {
   "cell_type": "code",
   "execution_count": null,
   "metadata": {},
   "outputs": [],
   "source": [
    "time_start = default_timer()\n",
    "L = Q + rho * A.T @ A\n",
    "L = csr_matrix(np.linalg.cholesky(L.toarray()))\n",
    "U = L.T\n",
    "print(default_timer() - time_start)"
   ]
  },
  {
   "cell_type": "code",
   "execution_count": null,
   "metadata": {},
   "outputs": [],
   "source": [
    "time_start = default_timer()\n",
    "z = csr_matrix((c.shape[0], 1))\n",
    "x = csr_matrix((2 * N, 1))\n",
    "u = csr_matrix((c.shape[0], 1))\n",
    "print(default_timer() - time_start)"
   ]
  },
  {
   "cell_type": "code",
   "execution_count": null,
   "metadata": {},
   "outputs": [],
   "source": [
    "time_start = default_timer()\n",
    "\n",
    "print(default_timer() - time_start)"
   ]
  },
  {
   "cell_type": "code",
   "execution_count": null,
   "metadata": {},
   "outputs": [],
   "source": [
    "time_start = default_timer()\n",
    "\n",
    "print(default_timer() - time_start)"
   ]
  },
  {
   "cell_type": "code",
   "execution_count": null,
   "metadata": {},
   "outputs": [],
   "source": [
    "time_start = default_timer()\n",
    "\n",
    "print(default_timer() - time_start)"
   ]
  },
  {
   "cell_type": "code",
   "execution_count": null,
   "metadata": {},
   "outputs": [],
   "source": []
  },
  {
   "cell_type": "code",
   "execution_count": null,
   "metadata": {},
   "outputs": [],
   "source": []
  },
  {
   "cell_type": "code",
   "execution_count": null,
   "metadata": {},
   "outputs": [],
   "source": []
  },
  {
   "cell_type": "code",
   "execution_count": null,
   "metadata": {},
   "outputs": [],
   "source": [
    "lmbda = 4\n",
    "lmbda = 1 / lmbda\n",
    "y = np.reshape(y, newshape=(1, -1))  # make sure y is a row vector\n",
    "N = X.shape[0]\n",
    "\n",
    "if y.shape[1] != X.shape[1]:\n",
    "    raise ValueError(\"Dimensions of input data, X & y, are not consistent.\")\n",
    "\n",
    "# Omega = np.where(y > 1e-6)[1]\n",
    "Omega = list(range(y.shape[1]))\n",
    "# Omega_c = np.where(y <= 1e-6)[1]\n",
    "Omega_c = []\n",
    "\n",
    "Q = lmbda * np.matmul(X[:, Omega], np.transpose(X[:, Omega]))\n",
    "q = -lmbda * np.matmul(X, np.transpose(y))\n",
    "P = X[:, Omega_c]\n",
    "P = P.transpose()\n",
    "c = np.zeros((len(Omega_c), 1))\n",
    "\n",
    "Q = np.kron([[1, -1], [-1, 1]], Q)\n",
    "q = 1 / 2 + np.append(q, -q, axis=0)\n",
    "P = np.append(P, -P, axis=1)\n",
    "\n",
    "A = np.append(P, -np.eye(2 * N, 2 * N), axis=0)\n",
    "c = np.append(c, np.zeros((2 * N, 1)), axis=0)\n",
    "\n",
    "# The ADMM part of the code\n",
    "L = np.linalg.cholesky(Q + rho * np.matmul(A.transpose(), A))\n",
    "U = L.transpose()\n",
    "\n",
    "z = np.zeros((len(c), 1))\n",
    "x = np.zeros((2 * N, 1))\n",
    "u = np.zeros((len(c), 1))\n",
    "\n",
    "L = torch.from_numpy(L)\n",
    "U = torch.from_numpy(U)\n",
    "A = torch.from_numpy(A)\n",
    "q = torch.from_numpy(q)\n",
    "c = torch.from_numpy(c)\n",
    "\n",
    "z = torch.from_numpy(z)\n",
    "x = torch.from_numpy(x)\n",
    "u = torch.from_numpy(u)"
   ]
  },
  {
   "cell_type": "code",
   "execution_count": null,
   "metadata": {},
   "outputs": [],
   "source": []
  },
  {
   "cell_type": "code",
   "execution_count": null,
   "metadata": {},
   "outputs": [],
   "source": []
  },
  {
   "cell_type": "code",
   "execution_count": null,
   "metadata": {},
   "outputs": [],
   "source": []
  },
  {
   "cell_type": "code",
   "execution_count": null,
   "metadata": {},
   "outputs": [],
   "source": []
  },
  {
   "cell_type": "code",
   "execution_count": null,
   "metadata": {},
   "outputs": [],
   "source": []
  }
 ],
 "metadata": {
  "kernelspec": {
   "display_name": "Python 3",
   "language": "python",
   "name": "python3"
  },
  "language_info": {
   "codemirror_mode": {
    "name": "ipython",
    "version": 3
   },
   "file_extension": ".py",
   "mimetype": "text/x-python",
   "name": "python",
   "nbconvert_exporter": "python",
   "pygments_lexer": "ipython3",
   "version": "3.5.2"
  }
 },
 "nbformat": 4,
 "nbformat_minor": 2
}
